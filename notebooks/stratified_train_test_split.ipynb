{
  "cells": [
    {
      "cell_type": "markdown",
      "metadata": {
        "id": "view-in-github",
        "colab_type": "text"
      },
      "source": [
        "<a href=\"https://colab.research.google.com/github/ganmohim/deep-learning/blob/master/notebooks/stratified_train_test_split.ipynb\" target=\"_parent\"><img src=\"https://colab.research.google.com/assets/colab-badge.svg\" alt=\"Open In Colab\"/></a>"
      ]
    },
    {
      "cell_type": "markdown",
      "metadata": {
        "id": "Yb8H-0c8ip9I"
      },
      "source": [
        "[![Open in Binder](https://mybinder.org/badge_logo.svg)](https://mybinder.org/v2/gh/justmarkham/scikit-learn-tips/master?filepath=notebooks%2F26_stratified_train_test_split.ipynb)\n",
        "\n",
        "[![Open in Colab](https://colab.research.google.com/assets/colab-badge.svg)](https://colab.research.google.com/github/justmarkham/scikit-learn-tips/blob/master/notebooks/26_stratified_train_test_split.ipynb)\n",
        "\n",
        "# 🤖⚡ scikit-learn tip #26 ([video](https://www.youtube.com/watch?v=Zcjl8xPLmPw&list=PL5-da3qGB5ID7YYAqireYEew2mWVvgmj6&index=26))\n",
        "\n",
        "Are you using train_test_split with a classification problem?\n",
        "\n",
        "Be sure to set \"stratify=y\" so that class proportions are preserved when splitting.\n",
        "\n",
        "Especially important if you have class imbalance!\n",
        "\n",
        "See example 👇"
      ]
    },
    {
      "cell_type": "code",
      "execution_count": 2,
      "metadata": {
        "id": "FhO-tdfiip9M",
        "outputId": "300d20de-b814-4680-e051-5f1a87810e68",
        "colab": {
          "base_uri": "https://localhost:8080/"
        }
      },
      "outputs": [
        {
          "output_type": "stream",
          "name": "stdout",
          "text": [
            "   feature     target\n",
            "0        0  not fraud\n",
            "1        1  not fraud\n",
            "2        2  not fraud\n",
            "3        3  not fraud\n",
            "4        4  not fraud\n",
            "5        5  not fraud\n",
            "6        6      fraud\n",
            "7        7      fraud\n"
          ]
        }
      ],
      "source": [
        "import pandas as pd\n",
        "df = pd.DataFrame({'feature':list(range(8)), 'target':['not fraud']*6 + ['fraud']*2})\n",
        "print(df)"
      ]
    },
    {
      "cell_type": "code",
      "execution_count": null,
      "metadata": {
        "id": "QX7kfvEXip9Q"
      },
      "outputs": [],
      "source": [
        "X = df[['feature']]\n",
        "y = df['target']"
      ]
    },
    {
      "cell_type": "code",
      "execution_count": null,
      "metadata": {
        "id": "ITnlFPaiip9S"
      },
      "outputs": [],
      "source": [
        "from sklearn.model_selection import train_test_split"
      ]
    },
    {
      "cell_type": "markdown",
      "metadata": {
        "id": "dsS2ma6pip9S"
      },
      "source": [
        "## Not stratified\n",
        "\n",
        "`y_train` contains **NONE** of the minority class, whereas `y_test` contains **ALL** of the minority class. (This is bad!)"
      ]
    },
    {
      "cell_type": "code",
      "execution_count": null,
      "metadata": {
        "id": "bH-bR_rrip9T"
      },
      "outputs": [],
      "source": [
        "X_train, X_test, y_train, y_test = train_test_split(X, y, test_size=0.5, random_state=0)"
      ]
    },
    {
      "cell_type": "code",
      "execution_count": null,
      "metadata": {
        "id": "rMCW8Wo-ip9T",
        "outputId": "dfbeb14a-668b-4e67-9162-c83911bad475"
      },
      "outputs": [
        {
          "data": {
            "text/plain": [
              "3    not fraud\n",
              "0    not fraud\n",
              "5    not fraud\n",
              "4    not fraud\n",
              "Name: target, dtype: object"
            ]
          },
          "execution_count": 5,
          "metadata": {},
          "output_type": "execute_result"
        }
      ],
      "source": [
        "y_train"
      ]
    },
    {
      "cell_type": "code",
      "execution_count": null,
      "metadata": {
        "scrolled": true,
        "id": "p94AtG5sip9U",
        "outputId": "cae6bb06-93ba-43a8-f794-921b6f13c9e8"
      },
      "outputs": [
        {
          "data": {
            "text/plain": [
              "6        fraud\n",
              "2    not fraud\n",
              "1    not fraud\n",
              "7        fraud\n",
              "Name: target, dtype: object"
            ]
          },
          "execution_count": 6,
          "metadata": {},
          "output_type": "execute_result"
        }
      ],
      "source": [
        "y_test"
      ]
    },
    {
      "cell_type": "markdown",
      "metadata": {
        "id": "bzeN2UFQip9V"
      },
      "source": [
        "## Stratified\n",
        "\n",
        "Class proportions are the **SAME** in `y_train` and `y_test`. (This is good!)"
      ]
    },
    {
      "cell_type": "code",
      "execution_count": null,
      "metadata": {
        "id": "GZYoZc9cip9W"
      },
      "outputs": [],
      "source": [
        "X_train, X_test, y_train, y_test = train_test_split(X, y, test_size=0.5, random_state=0, stratify=y)"
      ]
    },
    {
      "cell_type": "code",
      "execution_count": null,
      "metadata": {
        "id": "qvq0L86mip9X",
        "outputId": "b252c1bd-144f-455f-94f8-1611a35e5d9e"
      },
      "outputs": [
        {
          "data": {
            "text/plain": [
              "1    not fraud\n",
              "7        fraud\n",
              "2    not fraud\n",
              "4    not fraud\n",
              "Name: target, dtype: object"
            ]
          },
          "execution_count": 8,
          "metadata": {},
          "output_type": "execute_result"
        }
      ],
      "source": [
        "y_train"
      ]
    },
    {
      "cell_type": "code",
      "execution_count": null,
      "metadata": {
        "id": "5sxr3w85ip9Y",
        "outputId": "9dda2cfe-31e1-410a-e942-ee60e5314c0d"
      },
      "outputs": [
        {
          "data": {
            "text/plain": [
              "3    not fraud\n",
              "6        fraud\n",
              "0    not fraud\n",
              "5    not fraud\n",
              "Name: target, dtype: object"
            ]
          },
          "execution_count": 9,
          "metadata": {},
          "output_type": "execute_result"
        }
      ],
      "source": [
        "y_test"
      ]
    },
    {
      "cell_type": "markdown",
      "metadata": {
        "id": "qaxdIQcwip9Z"
      },
      "source": [
        "### Want more tips? [View all tips on GitHub](https://github.com/justmarkham/scikit-learn-tips) or [Sign up to receive 2 tips by email every week](https://scikit-learn.tips) 💌\n",
        "\n",
        "© 2020 [Data School](https://www.dataschool.io). All rights reserved."
      ]
    }
  ],
  "metadata": {
    "kernelspec": {
      "display_name": "Python 3",
      "language": "python",
      "name": "python3"
    },
    "language_info": {
      "codemirror_mode": {
        "name": "ipython",
        "version": 3
      },
      "file_extension": ".py",
      "mimetype": "text/x-python",
      "name": "python",
      "nbconvert_exporter": "python",
      "pygments_lexer": "ipython3",
      "version": "3.9.4"
    },
    "colab": {
      "name": "26_stratified_train_test_split.ipynb",
      "provenance": [],
      "include_colab_link": true
    }
  },
  "nbformat": 4,
  "nbformat_minor": 0
}