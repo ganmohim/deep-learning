{
  "nbformat": 4,
  "nbformat_minor": 0,
  "metadata": {
    "colab": {
      "name": "Untitled0.ipynb",
      "provenance": [],
      "include_colab_link": true
    },
    "kernelspec": {
      "name": "python3",
      "display_name": "Python 3"
    },
    "accelerator": "GPU"
  },
  "cells": [
    {
      "cell_type": "markdown",
      "metadata": {
        "id": "view-in-github",
        "colab_type": "text"
      },
      "source": [
        "<a href=\"https://colab.research.google.com/github/ganmohim/deep-learning/blob/master/image_classification/deep_learning_notebook.ipynb\" target=\"_parent\"><img src=\"https://colab.research.google.com/assets/colab-badge.svg\" alt=\"Open In Colab\"/></a>"
      ]
    },
    {
      "cell_type": "code",
      "metadata": {
        "colab_type": "code",
        "id": "nHn8qbap29i9",
        "colab": {}
      },
      "source": [
        "\n",
        "\"\"\"Run the code to find out what kind of object is detected!\n",
        "\n",
        "\"\"\"\n",
        "\n",
        "\n",
        "# !pip install tensorflow==2.0.0\n",
        "# !pip install requests\n",
        "\n",
        "import os\n",
        "\n",
        "import tensorflow as tf\n",
        "from tensorflow.keras.applications.resnet50 import preprocess_input, decode_predictions\n",
        "from tensorflow.keras.preprocessing import image\n",
        "import numpy as np\n",
        "import matplotlib.pyplot as plt\n",
        "\n",
        "\n",
        "!curl https://raw.githubusercontent.com/ganmohim/deep-learning/master/image_classification/images/object_1.jpg --output object_1.jpg\n",
        "!ls -la\n",
        "\n",
        "\n",
        "# from IPython.display import Image, display\n",
        "# display(Image('object_1.jpg'))\n",
        "\n",
        "object_image_path = 'object_1.jpg'\n",
        "image_object = image.load_img(object_image_path, target_size=(224, 224))\n",
        "plt.imshow(image_object)\n",
        "plt.show()\n",
        "\n",
        "def detect_object(object_image_path):\n",
        "    img = image.load_img(object_image_path, target_size=(224, 224))\n",
        "    model = tf.keras.applications.resnet50.ResNet50()\n",
        "    img_array = image.img_to_array(img)\n",
        "    img_batch = np.expand_dims(img_array, axis=0)\n",
        "    img_preprocessed = preprocess_input(img_batch)\n",
        "    prediction = model.predict(img_preprocessed)\n",
        "    #print(decode_predictions(prediction, top=5)[0])\n",
        "    print(\"\\n\\n\")\n",
        "    print(\"+\" * 68)\n",
        "    print(\"The object is predicted to be {}\".format(decode_predictions(prediction, top=5)[0][0][1]))\n",
        "    print(\"+\" * 68)\n",
        "detect_object(object_image_path)\n",
        "\n",
        "\n",
        "\n",
        "\n",
        "\n"
      ],
      "execution_count": 0,
      "outputs": []
    }
  ]
}